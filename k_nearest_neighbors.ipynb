{
  "nbformat": 4,
  "nbformat_minor": 0,
  "metadata": {
    "colab": {
      "provenance": [],
      "authorship_tag": "ABX9TyP4grwRKPx5omiC1P1yQAan",
      "include_colab_link": true
    },
    "kernelspec": {
      "name": "python3",
      "display_name": "Python 3"
    },
    "language_info": {
      "name": "python"
    }
  },
  "cells": [
    {
      "cell_type": "markdown",
      "metadata": {
        "id": "view-in-github",
        "colab_type": "text"
      },
      "source": [
        "<a href=\"https://colab.research.google.com/github/ymuto0302/RW2024_Re/blob/main/k_nearest_neighbors.ipynb\" target=\"_parent\"><img src=\"https://colab.research.google.com/assets/colab-badge.svg\" alt=\"Open In Colab\"/></a>"
      ]
    },
    {
      "cell_type": "markdown",
      "source": [
        "# k-Nearest Neighbors 分類器"
      ],
      "metadata": {
        "id": "RiYJadFFozE9"
      }
    },
    {
      "cell_type": "code",
      "source": [
        "# 準備：mglearn パッケージのインストール\n",
        "!pip install mglearn"
      ],
      "metadata": {
        "colab": {
          "base_uri": "https://localhost:8080/"
        },
        "id": "EiRdFN0zo9dg",
        "outputId": "0e88ab47-3896-4535-da30-a907659fd495"
      },
      "execution_count": null,
      "outputs": [
        {
          "output_type": "stream",
          "name": "stdout",
          "text": [
            "Collecting mglearn\n",
            "  Downloading mglearn-0.2.0-py2.py3-none-any.whl (581 kB)\n",
            "\u001b[2K     \u001b[90m━━━━━━━━━━━━━━━━━━━━━━━━━━━━━━━━━━━━━━━━\u001b[0m \u001b[32m581.4/581.4 kB\u001b[0m \u001b[31m5.6 MB/s\u001b[0m eta \u001b[36m0:00:00\u001b[0m\n",
            "\u001b[?25hRequirement already satisfied: numpy in /usr/local/lib/python3.10/dist-packages (from mglearn) (1.25.2)\n",
            "Requirement already satisfied: matplotlib in /usr/local/lib/python3.10/dist-packages (from mglearn) (3.7.1)\n",
            "Requirement already satisfied: scikit-learn in /usr/local/lib/python3.10/dist-packages (from mglearn) (1.2.2)\n",
            "Requirement already satisfied: pandas in /usr/local/lib/python3.10/dist-packages (from mglearn) (2.0.3)\n",
            "Requirement already satisfied: pillow in /usr/local/lib/python3.10/dist-packages (from mglearn) (9.4.0)\n",
            "Requirement already satisfied: cycler in /usr/local/lib/python3.10/dist-packages (from mglearn) (0.12.1)\n",
            "Requirement already satisfied: imageio in /usr/local/lib/python3.10/dist-packages (from mglearn) (2.31.6)\n",
            "Requirement already satisfied: joblib in /usr/local/lib/python3.10/dist-packages (from mglearn) (1.4.2)\n",
            "Requirement already satisfied: contourpy>=1.0.1 in /usr/local/lib/python3.10/dist-packages (from matplotlib->mglearn) (1.2.1)\n",
            "Requirement already satisfied: fonttools>=4.22.0 in /usr/local/lib/python3.10/dist-packages (from matplotlib->mglearn) (4.53.0)\n",
            "Requirement already satisfied: kiwisolver>=1.0.1 in /usr/local/lib/python3.10/dist-packages (from matplotlib->mglearn) (1.4.5)\n",
            "Requirement already satisfied: packaging>=20.0 in /usr/local/lib/python3.10/dist-packages (from matplotlib->mglearn) (24.1)\n",
            "Requirement already satisfied: pyparsing>=2.3.1 in /usr/local/lib/python3.10/dist-packages (from matplotlib->mglearn) (3.1.2)\n",
            "Requirement already satisfied: python-dateutil>=2.7 in /usr/local/lib/python3.10/dist-packages (from matplotlib->mglearn) (2.8.2)\n",
            "Requirement already satisfied: pytz>=2020.1 in /usr/local/lib/python3.10/dist-packages (from pandas->mglearn) (2023.4)\n",
            "Requirement already satisfied: tzdata>=2022.1 in /usr/local/lib/python3.10/dist-packages (from pandas->mglearn) (2024.1)\n",
            "Requirement already satisfied: scipy>=1.3.2 in /usr/local/lib/python3.10/dist-packages (from scikit-learn->mglearn) (1.11.4)\n",
            "Requirement already satisfied: threadpoolctl>=2.0.0 in /usr/local/lib/python3.10/dist-packages (from scikit-learn->mglearn) (3.5.0)\n",
            "Requirement already satisfied: six>=1.5 in /usr/local/lib/python3.10/dist-packages (from python-dateutil>=2.7->matplotlib->mglearn) (1.16.0)\n",
            "Installing collected packages: mglearn\n",
            "Successfully installed mglearn-0.2.0\n"
          ]
        }
      ]
    },
    {
      "cell_type": "code",
      "execution_count": null,
      "metadata": {
        "id": "FJtlJI365UEj",
        "colab": {
          "base_uri": "https://localhost:8080/",
          "height": 465
        },
        "outputId": "a1d6c59c-ab1c-4184-9d70-c14edde792ce"
      },
      "outputs": [
        {
          "output_type": "stream",
          "name": "stdout",
          "text": [
            "accuracy: 0.875\n"
          ]
        },
        {
          "output_type": "execute_result",
          "data": {
            "text/plain": [
              "<matplotlib.collections.PathCollection at 0x7b76655521d0>"
            ]
          },
          "metadata": {},
          "execution_count": 3
        },
        {
          "output_type": "display_data",
          "data": {
            "text/plain": [
              "<Figure size 640x480 with 1 Axes>"
            ],
            "image/png": "[encoded data removed]"
          },
          "metadata": {}
        }
      ],
      "source": [
        "'''\n",
        "k-近傍法\n",
        "(注意) forge データセットを利用するため，予め mglearn パッケージを\n",
        "インストールすること。Google Colab の場合，以下のコマンドによりインストールできる。\n",
        "!pip install mglearn\n",
        "'''\n",
        "import numpy as np\n",
        "from mglearn.datasets import make_forge\n",
        "from sklearn.neighbors import KNeighborsClassifier\n",
        "from sklearn.model_selection import train_test_split\n",
        "\n",
        "# データの読み込み\n",
        "X, y = make_forge()\n",
        "\n",
        "# 学習データとテストデータに分割 (学習:テスト=7:3)\n",
        "X_train, X_test, y_train, y_test = train_test_split(X, y,\n",
        "                                                    test_size=0.3,\n",
        "                                                    stratify=y)\n",
        "\n",
        "# モデルの構築\n",
        "model = KNeighborsClassifier(n_neighbors=3)\n",
        "\n",
        "# モデルの学習\n",
        "model.fit(X_train, y_train)\n",
        "\n",
        "# 予測\n",
        "predictions = model.predict(X_test)\n",
        "\n",
        "# 評価\n",
        "print(\"accuracy:\", np.mean(predictions == y_test))\n",
        "\n",
        "# 決定境界の描画\n",
        "from sklearn.inspection import DecisionBoundaryDisplay\n",
        "import matplotlib.pyplot as plt\n",
        "fig, ax = plt.subplots() # ax を取得するため subplots を使う\n",
        "DecisionBoundaryDisplay.from_estimator(model, X_test,\n",
        "                                       response_method=\"predict\",\n",
        "                                       alpha=0.4, ax=ax) # 決定境界の描画\n",
        "ax.scatter(X_test[:, 0], X_test[:, 1], c=y_test, edgecolor='black') # テストサンプルを描画\n",
        "ax.scatter(X_train[:, 0], X_train[:, 1], c=y_train, edgecolor='black', marker=\"^\") # 学習サンプルを描画"
      ]
    },
    {
      "cell_type": "markdown",
      "source": [
        "---\n",
        "## step-by-step によるコードの解説"
      ],
      "metadata": {
        "id": "QhlB0UrspN4c"
      }
    },
    {
      "cell_type": "markdown",
      "source": [
        "### ライブラリのインポート\n",
        "冒頭の import 文は，この後の処理に必要なモジュールの読み込みを行う機能を提供する。"
      ],
      "metadata": {
        "id": "pGudQ9Urpb1q"
      }
    },
    {
      "cell_type": "code",
      "source": [
        "import numpy as np\n",
        "from mglearn.datasets import make_forge\n",
        "from sklearn.neighbors import KNeighborsClassifier\n",
        "from sklearn.model_selection import train_test_split"
      ],
      "metadata": {
        "id": "zNWJv1_HpGBL"
      },
      "execution_count": null,
      "outputs": []
    },
    {
      "cell_type": "markdown",
      "source": [
        "- `import numpy as np` : numpy を np という名前で読み込む。終盤の平均の計算に用いる。\n",
        "- `from mglearn.datasets import make_forge` : forge データセットを読み込むための import 文\n",
        "- `from sklearn.neighbors import KNeighborsClassifier` : 識別器である k-Nearest Neighbor 分類器を利用するための import 文\n",
        "- `from sklearn.model_selection import train_test_split` : データセットを学習用・テスト用に分割する train_test_split を読み込むための import 文"
      ],
      "metadata": {
        "id": "V4eo_wDrpjNf"
      }
    },
    {
      "cell_type": "markdown",
      "source": [
        "### データ生成 ＆ 学習データとテストデータへの分割"
      ],
      "metadata": {
        "id": "XuHPm7OhqJ1O"
      }
    },
    {
      "cell_type": "code",
      "source": [
        "# データの読み込み\n",
        "X, y = make_forge()\n",
        "\n",
        "# 学習データとテストデータに分割 (学習:テスト=7:3)\n",
        "X_train, X_test, y_train, y_test = train_test_split(X, y,\n",
        "                                                    test_size=0.3,\n",
        "                                                    stratify=y)"
      ],
      "metadata": {
        "id": "nVi_NcOEpVuM"
      },
      "execution_count": null,
      "outputs": []
    },
    {
      "cell_type": "markdown",
      "source": [
        "- `make_forge()` を用いて forge データセットを生成する。\n",
        "変数 `X` には特徴量が，変数 `y` にはラベルが格納されている。\n",
        "- `train_test_split(X, y, test_size=0.3, stratify=y)` : データセットを学習用データとテスト用データに分割するための関数である。第１引数の `X` は特徴量，第２引数 `y` はラベルである。その他の引数の意味は以下のとおり：\n",
        "    - `test_size=0.3` : 学習用データとテスト用データの比率を 7:3 として分割する。\n",
        "    - `stratify=y` : ラベル毎の偏りが生じないよう，変数 `y` に含まれる値の分布に応じた分割を行う。\n"
      ],
      "metadata": {
        "id": "DS0fqmhQqdgL"
      }
    },
    {
      "cell_type": "markdown",
      "source": [
        "### モデルの定義・学習・予測\n",
        "k-NN 分類器の定義(インスタンス化)，学習，予測を行う，本コードの中心部分である。"
      ],
      "metadata": {
        "id": "Tfbq9RLsrTqW"
      }
    },
    {
      "cell_type": "code",
      "source": [
        "# モデルの構築\n",
        "model = KNeighborsClassifier(n_neighbors=3)\n",
        "\n",
        "# モデルの学習\n",
        "model.fit(X_train, y_train)\n",
        "\n",
        "# 予測\n",
        "predictions = model.predict(X_test)"
      ],
      "metadata": {
        "id": "4lSSmOxwqUF4"
      },
      "execution_count": null,
      "outputs": []
    },
    {
      "cell_type": "markdown",
      "source": [
        "- `model = KNeighborsClassifier(n_neighbors=3)` : k-NN分類器を定義(インスタンス化)する。ここでは近傍数を 3個とすべく，`n_neighbors=3` とパラメータ設定している。\n",
        "- `model.fit()` : scikit-learn では，モデルの学習に `fit()` 関数を用いる。与えるパラメータは学習データの特徴量とラベルである。\n",
        "- `mode.predict()` : テストデータの特徴値を渡し，各特徴がいずれのクラスに属するかを予測させる。scikit-learn では予測（または分類）に `predict()` 関数を用いる。`predict()` 関数の返し値は，予測値の格納された配列である。"
      ],
      "metadata": {
        "id": "X2l2vRoqrwnf"
      }
    },
    {
      "cell_type": "markdown",
      "source": [
        "### モデルの評価\n",
        "変数 `predictions` に予測されたラベル値が収められている。これを正解ラベル `y_test` と比較し，正解した値の割合を求める。"
      ],
      "metadata": {
        "id": "nZqG9FQBscUB"
      }
    },
    {
      "cell_type": "code",
      "source": [
        "# 評価\n",
        "print(\"accuracy:\", np.mean(predictions == y_test))"
      ],
      "metadata": {
        "id": "AHiR-EqTraH4"
      },
      "execution_count": null,
      "outputs": []
    },
    {
      "cell_type": "markdown",
      "source": [
        "### (おまけ) 決定境界の描画\n",
        "scikit-learn には決定境界を可視化するクラスとして `DecisionBoundaryDisplay` が存在する。このコードの解説は，機械学習やデータサイエンスの学習の本質から外れるため，その解説を省略する。"
      ],
      "metadata": {
        "id": "IpHi1J0nsobE"
      }
    },
    {
      "cell_type": "code",
      "source": [
        "# 決定境界の描画\n",
        "from sklearn.inspection import DecisionBoundaryDisplay\n",
        "import matplotlib.pyplot as plt\n",
        "fig, ax = plt.subplots() # ax を取得するため subplots を使う\n",
        "DecisionBoundaryDisplay.from_estimator(model, X_test,\n",
        "                                       response_method=\"predict\",\n",
        "                                       alpha=0.4, ax=ax) # 決定境界の描画\n",
        "ax.scatter(X_test[:, 0], X_test[:, 1], c=y_test, edgecolor='black') # テストサンプルを描画\n",
        "ax.scatter(X_train[:, 0], X_train[:, 1], c=y_train, edgecolor='black', marker=\"^\") # 学習サンプルを描画"
      ],
      "metadata": {
        "id": "6XHdoL2ysYWH"
      },
      "execution_count": null,
      "outputs": []
    }
  ]
}
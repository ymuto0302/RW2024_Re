{
  "nbformat": 4,
  "nbformat_minor": 0,
  "metadata": {
    "colab": {
      "provenance": [],
      "authorship_tag": "ABX9TyNEHFVDB6fg4cPmhVDGhnBi",
      "include_colab_link": true
    },
    "kernelspec": {
      "name": "python3",
      "display_name": "Python 3"
    },
    "language_info": {
      "name": "python"
    }
  },
  "cells": [
    {
      "cell_type": "markdown",
      "metadata": {
        "id": "view-in-github",
        "colab_type": "text"
      },
      "source": [
        "<a href=\"https://colab.research.google.com/github/ymuto0302/RW2024_Re/blob/main/perceptron.ipynb\" target=\"_parent\"><img src=\"https://colab.research.google.com/assets/colab-badge.svg\" alt=\"Open In Colab\"/></a>"
      ]
    },
    {
      "cell_type": "markdown",
      "source": [
        "# 線形モデル(パーセプトロン)"
      ],
      "metadata": {
        "id": "O6q9v2tLomuT"
      }
    },
    {
      "cell_type": "code",
      "execution_count": null,
      "metadata": {
        "id": "A3EJzRqb8060"
      },
      "outputs": [],
      "source": [
        "'''\n",
        "パーセプトロン\n",
        "'''\n",
        "import numpy as np\n",
        "from sklearn.datasets import load_iris\n",
        "from sklearn.linear_model import Perceptron\n",
        "from sklearn.model_selection import train_test_split\n",
        "\n",
        "# データの読み込み\n",
        "iris = load_iris()\n",
        "\n",
        "# 特徴量とラベルの分離\n",
        "# \"sepal length\" と \"petal length\" の列のみを取り出す\n",
        "X = iris.data[:, [0,2]]\n",
        "y = iris.target\n",
        "\n",
        "# モデルの構築\n",
        "model = Perceptron()\n",
        "\n",
        "# 学習データとテストデータに分割 (学習:テスト=7:3)\n",
        "X_train, X_test, y_train, y_test = train_test_split(X, y,\n",
        "                                                    test_size=0.3,\n",
        "                                                    stratify=y)\n",
        "\n",
        "# モデルの学習\n",
        "model.fit(X_train, y_train)\n",
        "\n",
        "# 予測\n",
        "predictions = model.predict(X_test)\n",
        "\n",
        "# 評価\n",
        "print(\"accuracy:\", np.mean(predictions == y_test))\n",
        "\n",
        "# 決定境界の描画\n",
        "from sklearn.inspection import DecisionBoundaryDisplay\n",
        "import matplotlib.pyplot as plt\n",
        "fig, ax = plt.subplots() # ax を取得するため subplots を使う\n",
        "DecisionBoundaryDisplay.from_estimator(model, X_test,\n",
        "                                       alpha=0.4, ax=ax) # 決定境界の描画\n",
        "ax.scatter(X_test[:, 0], X_test[:, 1], c=y_test, edgecolor='black') # テストサンプルを描画"
      ]
    },
    {
      "cell_type": "markdown",
      "source": [
        "---\n",
        "## step-by-step によるコードの解説"
      ],
      "metadata": {
        "id": "UQaIIjiKmwU6"
      }
    },
    {
      "cell_type": "markdown",
      "source": [
        "### ライブラリのインポート\n",
        "冒頭の import 文は，この後の処理に必要なモジュールの読み込みを行う機能を提供する。"
      ],
      "metadata": {
        "id": "62nmPZasnFr5"
      }
    },
    {
      "cell_type": "code",
      "source": [
        "import numpy as np\n",
        "from sklearn.datasets import load_iris\n",
        "from sklearn.linear_model import Perceptron\n",
        "from sklearn.model_selection import train_test_split"
      ],
      "metadata": {
        "id": "Fp_Spt71myfR"
      },
      "execution_count": null,
      "outputs": []
    },
    {
      "cell_type": "markdown",
      "source": [
        "- `import numpy as np` : numpy を np という名前で読み込む。終盤の平均の計算に用いる。\n",
        "- `from sklearn.datasets import load_iris` : Iris データセットを読み込むための import 文\n",
        "- `from sklearn.linear_model import Perceptron` : 識別器であるパーセプトロンを利用するための import 文\n",
        "- `from sklearn.model_selection import train_test_split` : データセットを学習用・テスト用に分割する train_test_split を読み込むための import 文"
      ],
      "metadata": {
        "id": "yafh0BddnUQ1"
      }
    },
    {
      "cell_type": "markdown",
      "source": [
        "### データの読み込み ＆ 特徴量とラベルの分離"
      ],
      "metadata": {
        "id": "_QjAXTLvnasl"
      }
    },
    {
      "cell_type": "code",
      "source": [
        "# データの読み込み\n",
        "iris = load_iris()\n",
        "\n",
        "# print(iris.data.shape) # (150,4)\n",
        "# print(iris.target.shape) # (150,)\n",
        "\n",
        "# 特徴量とラベルの分離\n",
        "# \"sepal length\" と \"petal length\" の列のみを取り出す\n",
        "X = iris.data[:, [0,2]]\n",
        "y = iris.target"
      ],
      "metadata": {
        "id": "9Rc4tLkinmYJ"
      },
      "execution_count": null,
      "outputs": []
    },
    {
      "cell_type": "markdown",
      "source": [
        "`load_iris()` を用いて Iris データセットを読み込む。\n",
        "\n",
        "変数 `iris.data` に４次元データが (行,列)=(サンプル数, 特徴量) の次元で収まっている。ここでは \"sepal length\" と \"petal length\" の列のみを取り出したいから，行は「全て」を表すコロンを指定し，列に「0番目と 2番目のインデックスのみ」という指定を行う。\n",
        "\n",
        "変数 `iris.target` にはラベル番号が１次元配列として格納されている。\n",
        "\n",
        "また，scikit-learn の流儀に従い，特徴を変数 `X` へ，ラベルを変数 `y` へ代入している"
      ],
      "metadata": {
        "id": "C_IQzCCtnsFP"
      }
    },
    {
      "cell_type": "markdown",
      "source": [
        "### モデルの定義・学習・予測\n",
        "下記がパーセプトロンの学習および学習済みモデルを用いた予測を行う，本コードの核心の部分である。"
      ],
      "metadata": {
        "id": "VRb7NEiPnyn3"
      }
    },
    {
      "cell_type": "code",
      "source": [
        "# モデルの構築\n",
        "model = Perceptron()\n",
        "\n",
        "# 学習データとテストデータに分割 (学習:テスト=7:3)\n",
        "X_train, X_test, y_train, y_test = train_test_split(X, y,\n",
        "                                                    test_size=0.3,\n",
        "                                                    stratify=y)\n",
        "# モデルの学習\n",
        "model.fit(X_train, y_train)\n",
        "\n",
        "# 予測\n",
        "predictions = model.predict(X_test)"
      ],
      "metadata": {
        "id": "4FH9pAGNnyOx"
      },
      "execution_count": null,
      "outputs": []
    },
    {
      "cell_type": "markdown",
      "source": [
        "- `model = Perceptron()` : パーセプトロンを定義(インスタンス化)する。実際には `penalty` や `alpha` など多くのパラメータがあるが，全てデフォルト値とする。\n",
        "- `train_test_split(X, y, test_size=0.3, stratify=y)` : データセットを学習用データとテスト用データに分割するための関数である。第１引数の `X` は特徴量（本コードの場合，２次元データ）を，第２引数 `y` はラベルである。その他の引数の意味は以下のとおり：\n",
        "    - `test_size=0.3` : 学習用データとテスト用データの比率を 7:3 として分割する。\n",
        "    - `stratify=y` : ラベル毎の偏りが生じないよう，変数 `y` に含まれる値の分布に応じた分割を行う。\n",
        "    \n",
        "    `train_test_split()` の返し値は「学習データの特徴量, テストデータの特徴量, 学習データのラベル, テストデータのラベル」の順で返される。\n",
        "    \n",
        "- `model.fit()` : scikit-learn では，モデルの学習に `fit()` 関数を用いる。与えるパラメータは学習データの特徴量とラベルである。\n",
        "- `mode.predict()` : テストデータの特徴値を渡し，各特徴がいずれのクラスに属するかを予測させる。scikit-learn では予測（または分類）に `predict()` 関数を用いる。`predict()` 関数の返し値は，予測値の格納された配列である。"
      ],
      "metadata": {
        "id": "Wd9oj-XGoFOj"
      }
    },
    {
      "cell_type": "markdown",
      "source": [
        "### モデルの評価\n",
        "変数 predictions に予測されたラベル値が収められている。これを正解ラベル y_test と比較し，正解した値の割合を求める。"
      ],
      "metadata": {
        "id": "hXPVv5TZoGxA"
      }
    },
    {
      "cell_type": "code",
      "source": [
        "# 評価\n",
        "print(\"accuracy:\", np.mean(predictions == y_test))"
      ],
      "metadata": {
        "id": "rg9oj_Q5oMeE"
      },
      "execution_count": null,
      "outputs": []
    },
    {
      "cell_type": "markdown",
      "source": [
        "### (おまけ) 決定境界の描画\n",
        "scikit-learn には決定境界を可視化するクラスとして `DecisionBoundaryDisplay` が存在する。このコードの解説は，機械学習やデータサイエンスの学習の本質から外れるため，その解説を省略する。"
      ],
      "metadata": {
        "id": "_FhEjmfRoSOA"
      }
    },
    {
      "cell_type": "code",
      "source": [
        "# 決定境界の描画\n",
        "from sklearn.inspection import DecisionBoundaryDisplay\n",
        "import matplotlib.pyplot as plt\n",
        "fig, ax = plt.subplots() # ax を取得するため subplots を使う\n",
        "DecisionBoundaryDisplay.from_estimator(model, X_test,\n",
        "                                       alpha=0.4, ax=ax) # 決定境界の描画\n",
        "ax.scatter(X_test[:, 0], X_test[:, 1], c=y_test, edgecolor='black') # テストサンプルを描画"
      ],
      "metadata": {
        "id": "XZxtSIIIoZcD"
      },
      "execution_count": null,
      "outputs": []
    }
  ]
}